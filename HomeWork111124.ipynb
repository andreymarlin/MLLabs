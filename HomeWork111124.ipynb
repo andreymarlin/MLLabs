{
 "cells": [
  {
   "cell_type": "markdown",
   "metadata": {},
   "source": [
    "## Exercise 1: Experiment with Different Models\n",
    "\n",
    "Objective: To understand how different models perform on the same dataset and to practice replacing models in a pipeline.\n",
    "\n",
    "Instructions:\n",
    "\n",
    "- Replace the `Logistic Regression` model with another classifier, such as `KNeighborsClassifier` or `DecisionTreeClassifier`.\n",
    "- Train and evaluate the new model on the same training and test sets.\n",
    "- Compare the accuracy with those from the `Logistic Regression` model.\n",
    "\n",
    "Questions:\n",
    "\n",
    "- How did the performance of the new model compare to Logistic Regression?"
   ]
  },
  {
   "cell_type": "code",
   "execution_count": 33,
   "metadata": {},
   "outputs": [],
   "source": [
    "import pandas as pd\n",
    "from sklearn.datasets import load_breast_cancer\n",
    "from sklearn.model_selection import train_test_split\n",
    "from sklearn.preprocessing import StandardScaler\n",
    "from sklearn.linear_model import LogisticRegression\n",
    "from sklearn.metrics import accuracy_score, confusion_matrix, classification_report\n",
    "from sklearn.neighbors import KNeighborsClassifier"
   ]
  },
  {
   "cell_type": "code",
   "execution_count": 34,
   "metadata": {},
   "outputs": [
    {
     "name": "stdout",
     "output_type": "stream",
     "text": [
      "Accuracy: 0.98\n"
     ]
    }
   ],
   "source": [
    "# Load the breast cancer dataset\n",
    "data = load_breast_cancer()\n",
    "df = pd.DataFrame(data.data, columns=data.feature_names)\n",
    "\n",
    "df['target'] = data.target\n",
    "\n",
    "# Separate features and target variable\n",
    "X = df.drop(columns='target')\n",
    "y = df['target']\n",
    "\n",
    "# Standardize the features to similar ranges\n",
    "scaler = StandardScaler()\n",
    "X_scaled = scaler.fit_transform(X)\n",
    "\n",
    "# Split the Data into Training and Testing Sets\n",
    "X_train, X_test, y_train, y_test = train_test_split(X_scaled, y, test_size=0.3, random_state=42)\n",
    "\n",
    "# Train a model\n",
    "model = LogisticRegression()\n",
    "model.fit(X_train, y_train)\n",
    "\n",
    "# Make predictions on the test data\n",
    "y_pred = model.predict(X_test)\n",
    "\n",
    "# Calculate accuracy\n",
    "accuracy = accuracy_score(y_test, y_pred)\n",
    "print(f\"Accuracy: {accuracy:.2f}\")"
   ]
  },
  {
   "cell_type": "code",
   "execution_count": 35,
   "metadata": {},
   "outputs": [
    {
     "name": "stdout",
     "output_type": "stream",
     "text": [
      "Accuracy: 0.98\n"
     ]
    }
   ],
   "source": [
    "# Train a model\n",
    "model2 = KNeighborsClassifier(n_neighbors=2)\n",
    "model2.fit(X_train, y_train)\n",
    "\n",
    "# Make predictions on the test data\n",
    "y_pred = model.predict(X_test)\n",
    "\n",
    "# Calculate accuracy\n",
    "accuracy = accuracy_score(y_test, y_pred)\n",
    "print(f\"Accuracy: {accuracy:.2f}\")"
   ]
  },
  {
   "cell_type": "markdown",
   "metadata": {},
   "source": [
    "How did the performance of the new model compare to Logistic Regression?\n",
    "it's the same"
   ]
  },
  {
   "cell_type": "markdown",
   "metadata": {},
   "source": [
    "# Exercise 2: Experiment with different datasets\n",
    "\n",
    "Choose 1 or these datasets and compare the accuracies.\n",
    "\n",
    "- Wine Dataset\n",
    "\n",
    "```python\n",
    "from sklearn.datasets import load_wine\n",
    "data = load_wine()\n",
    "```\n",
    "- Diabetes Dataset\n",
    "```python\n",
    "from sklearn.datasets import load_diabetes\n",
    "data = load_diabetes()\n",
    "```"
   ]
  },
  {
   "cell_type": "code",
   "execution_count": 36,
   "metadata": {},
   "outputs": [
    {
     "name": "stdout",
     "output_type": "stream",
     "text": [
      "Accuracy: 0.98\n"
     ]
    }
   ],
   "source": [
    "# Load the Wine Dataset\n",
    "from sklearn.datasets import load_wine\n",
    "data1 = load_wine()\n",
    "df1 = pd.DataFrame(data1.data, columns=data1.feature_names)\n",
    "\n",
    "df1['target'] = data1.target\n",
    "\n",
    "# Separate features and target variable\n",
    "X = df1.drop(columns='target')\n",
    "y = df1['target']\n",
    "\n",
    "# Standardize the features to similar ranges\n",
    "scaler = StandardScaler()\n",
    "X_scaled = scaler.fit_transform(X)\n",
    "\n",
    "# Split the Data into Training and Testing Sets\n",
    "X_train, X_test, y_train, y_test = train_test_split(X_scaled, y, test_size=0.3, random_state=42)\n",
    "\n",
    "# Train a model\n",
    "model = LogisticRegression()\n",
    "model.fit(X_train, y_train)\n",
    "\n",
    "# Make predictions on the test data\n",
    "y_pred = model.predict(X_test)\n",
    "\n",
    "# Calculate accuracy\n",
    "accuracy = accuracy_score(y_test, y_pred)\n",
    "print(f\"Accuracy: {accuracy:.2f}\")"
   ]
  },
  {
   "cell_type": "markdown",
   "metadata": {},
   "source": [
    "There is the same accuracy with vine dataset as with given first."
   ]
  },
  {
   "cell_type": "code",
   "execution_count": 37,
   "metadata": {},
   "outputs": [
    {
     "name": "stdout",
     "output_type": "stream",
     "text": [
      "Accuracy: 0.00\n"
     ]
    }
   ],
   "source": [
    "# Load the Wine Dataset\n",
    "from sklearn.datasets import load_diabetes\n",
    "data2 = load_diabetes()\n",
    "df2 = pd.DataFrame(data2.data, columns=data2.feature_names)\n",
    "\n",
    "df2['target'] = data2.target\n",
    "\n",
    "# Separate features and target variable\n",
    "X = df2.drop(columns='target')\n",
    "y = df2['target']\n",
    "\n",
    "# Standardize the features to similar ranges\n",
    "scaler = StandardScaler()\n",
    "X_scaled = scaler.fit_transform(X)\n",
    "\n",
    "# Split the Data into Training and Testing Sets\n",
    "X_train, X_test, y_train, y_test = train_test_split(X_scaled, y, test_size=0.3, random_state=42)\n",
    "\n",
    "# Train a model\n",
    "model = LogisticRegression()\n",
    "model.fit(X_train, y_train)\n",
    "\n",
    "# Make predictions on the test data\n",
    "y_pred = model.predict(X_test)\n",
    "\n",
    "# Calculate accuracy\n",
    "accuracy = accuracy_score(y_test, y_pred)\n",
    "print(f\"Accuracy: {accuracy:.2f}\")"
   ]
  }
 ],
 "metadata": {
  "kernelspec": {
   "display_name": "myenv",
   "language": "python",
   "name": "python3"
  },
  "language_info": {
   "codemirror_mode": {
    "name": "ipython",
    "version": 3
   },
   "file_extension": ".py",
   "mimetype": "text/x-python",
   "name": "python",
   "nbconvert_exporter": "python",
   "pygments_lexer": "ipython3",
   "version": "3.10.13"
  }
 },
 "nbformat": 4,
 "nbformat_minor": 2
}
